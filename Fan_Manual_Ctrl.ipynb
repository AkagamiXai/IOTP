{
 "cells": [
  {
   "cell_type": "code",
   "execution_count": null,
   "id": "b30386f0",
   "metadata": {},
   "outputs": [],
   "source": [
    "import RPi.GPIO as GPIO\n",
    "import paho.mqtt.client as mqtt\n",
    "\n",
    "# Set up MQTT Broker and Topics.\n",
    "mqtt_broker = \"test.mosquitto.org\"\n",
    "my_mqtt = None\n",
    "topic_fan = \"SmartHomeGrp1/device/fan\"\n",
    "\n",
    "# Set up the GPIO pin for the fan\n",
    "fan_pin = 26\n",
    "GPIO.setmode(GPIO.BCM)\n",
    "GPIO.setup(fan_pin, GPIO.OUT)\n",
    "\n",
    "# Connect to MQTT Broker\n",
    "def on_connect(client, userdata, flags, rc):\n",
    "    print('Connected with result code ' + str(rc))\n",
    "    my_mqtt.subscribe(topic_fan)\n",
    "\n",
    "# Define a Callback function for manual fan control through incoming MQTT Messages\n",
    "def on_message(client, userdata, message):\n",
    "    fan_status = message.payload.decode(\"utf-8\")\n",
    "\n",
    "    if fan_status and fan_status == \"ON\":\n",
    "        GPIO.output(fan_pin, GPIO.HIGH)\n",
    "        print(\"Fan Turn On\")\n",
    "    elif fan_status and fan_status == \"OFF\":\n",
    "        GPIO.output(fan_pin, GPIO.LOW)\n",
    "        print(\"Fan Turn Off\")\n",
    "    else:\n",
    "        return\n",
    "\n",
    "my_mqtt = mqtt.Client()\n",
    "my_mqtt.on_connect = on_connect\n",
    "my_mqtt.on_message = on_message\n",
    "my_mqtt.connect(mqtt_broker, port=1883)\n",
    "my_mqtt.loop_forever()"
   ]
  }
 ],
 "metadata": {
  "kernelspec": {
   "display_name": "Python 3 (ipykernel)",
   "language": "python",
   "name": "python3"
  },
  "language_info": {
   "codemirror_mode": {
    "name": "ipython",
    "version": 3
   },
   "file_extension": ".py",
   "mimetype": "text/x-python",
   "name": "python",
   "nbconvert_exporter": "python",
   "pygments_lexer": "ipython3",
   "version": "3.9.12"
  }
 },
 "nbformat": 4,
 "nbformat_minor": 5
}
